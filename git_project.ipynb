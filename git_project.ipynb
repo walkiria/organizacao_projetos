{
 "cells": [
  {
   "cell_type": "markdown",
   "metadata": {
    "toc": true
   },
   "source": [
    "<h1>Table of Contents<span class=\"tocSkip\"></span></h1>\n",
    "<div class=\"toc\"><ul class=\"toc-item\"></ul></div>"
   ]
  },
  {
   "cell_type": "code",
   "execution_count": null,
   "metadata": {},
   "outputs": [],
   "source": [
    "!pip install cookiecutter"
   ]
  },
  {
   "cell_type": "code",
   "execution_count": null,
   "metadata": {
    "scrolled": true
   },
   "outputs": [],
   "source": [
    "from cookiecutter.main import cookiecutter\n",
    "\n",
    "# Create project from the cookiecutter-pypackage/ template\n",
    "# cookiecutter('cookiecutter-pypackage/')\n",
    "\n",
    "# Create project from the cookiecutter-pypackage.git repo template\n",
    "# cookiecutter('https://github.com/audreyr/cookiecutter-pypackage.git')\n",
    "\n",
    "cookiecutter('https://github.com/drivendata/cookiecutter-data-science')\n"
   ]
  },
  {
   "cell_type": "code",
   "execution_count": null,
   "metadata": {},
   "outputs": [],
   "source": [
    "import os"
   ]
  },
  {
   "cell_type": "code",
   "execution_count": null,
   "metadata": {},
   "outputs": [],
   "source": [
    "# detect the current working directory and print it\n",
    "path = os.getcwd()\n",
    "path = path+'/'\n",
    "print (\"The current working directory is %s\" % path)"
   ]
  },
  {
   "cell_type": "code",
   "execution_count": null,
   "metadata": {},
   "outputs": [],
   "source": [
    "# -------------#"
   ]
  },
  {
   "cell_type": "code",
   "execution_count": 1,
   "metadata": {},
   "outputs": [],
   "source": [
    "# define the name of the directory to be created\n",
    "\n",
    "def create_folder(path_name):\n",
    "    try:\n",
    "        os.mkdir(path+path_name)\n",
    "    except OSError:\n",
    "        print (\"Creation of the directory %s failed\" % path+path_name)\n",
    "    else:\n",
    "        print (\"Successfully created the directory %s \" % path+path_name)\n",
    "    \n"
   ]
  },
  {
   "cell_type": "code",
   "execution_count": 2,
   "metadata": {},
   "outputs": [],
   "source": [
    "def create_file(content=None, path=None):\n",
    "    f = open(path, \"a\")\n",
    "    f.write(content)\n",
    "    f.close()"
   ]
  },
  {
   "cell_type": "code",
   "execution_count": 3,
   "metadata": {},
   "outputs": [],
   "source": [
    "\n",
    "def call_create_folders(project_name):\n",
    "    subfolders = ['data', 'docs','models', 'notebooks', 'references', 'reports', 'src']\n",
    "    subfolders_data = ['external', 'interim', 'processed', 'raw']\n",
    "    subfolders_reports= ['figures']\n",
    "    subfolders_src = ['data', 'features', 'models', 'visualization']\n",
    "\n",
    "    create_folder(project_name)\n",
    "    for i in subfolders:\n",
    "        create_folder(project_name+i)\n",
    "\n",
    "    for i in subfolders_data:\n",
    "        create_folder(project_name+'data'+ '/'+i)\n",
    "\n",
    "    for i in subfolders_reports:\n",
    "        create_folder(project_name+'reports'+ '/'+i)\n",
    "\n",
    "    for i in subfolders_src:\n",
    "        create_folder(project_name+'src'+ '/'+i)\n"
   ]
  },
  {
   "cell_type": "code",
   "execution_count": 4,
   "metadata": {},
   "outputs": [],
   "source": [
    "def call_create_files(path, project_name):\n",
    "    readme= path+project_name+'README.md'\n",
    "    train =  path+project_name+'src/models/train.py'\n",
    "    predict = path+project_name+'src/models/predict.py'\n",
    "    visualize =  path+project_name+'src/visualization/visualize.py'\n",
    "    make_dataset = path+project_name+'src/data/make_dataset.py'\n",
    "\n",
    "    files  = [train, predict, visualize, make_dataset]\n",
    "\n",
    "    for i in files:\n",
    "        create_file(\"\",i)"
   ]
  },
  {
   "cell_type": "code",
   "execution_count": 5,
   "metadata": {
    "code_folding": []
   },
   "outputs": [],
   "source": [
    "def create_git_folders(project_name):\n",
    "    call_create_folders(project_name)\n",
    "    call_create_files(path, project_name)"
   ]
  },
  {
   "cell_type": "code",
   "execution_count": 9,
   "metadata": {},
   "outputs": [
    {
     "name": "stdout",
     "output_type": "stream",
     "text": [
      "Nome do projeto\n",
      "teste\n"
     ]
    }
   ],
   "source": [
    "import os\n",
    "path = os.getcwd()\n",
    "path = path+'/'\n",
    "print('Nome do projeto')\n",
    "project_name = input()\n",
    "project_name = project_name +'/'"
   ]
  },
  {
   "cell_type": "code",
   "execution_count": 8,
   "metadata": {},
   "outputs": [
    {
     "name": "stdout",
     "output_type": "stream",
     "text": [
      "Successfully created the directory /home/walkira/workspace/machine-learning/organizar_projeto/ teste/\n",
      "Successfully created the directory /home/walkira/workspace/machine-learning/organizar_projeto/ teste/data\n",
      "Successfully created the directory /home/walkira/workspace/machine-learning/organizar_projeto/ teste/docs\n",
      "Successfully created the directory /home/walkira/workspace/machine-learning/organizar_projeto/ teste/models\n",
      "Successfully created the directory /home/walkira/workspace/machine-learning/organizar_projeto/ teste/notebooks\n",
      "Successfully created the directory /home/walkira/workspace/machine-learning/organizar_projeto/ teste/references\n",
      "Successfully created the directory /home/walkira/workspace/machine-learning/organizar_projeto/ teste/reports\n",
      "Successfully created the directory /home/walkira/workspace/machine-learning/organizar_projeto/ teste/src\n",
      "Successfully created the directory /home/walkira/workspace/machine-learning/organizar_projeto/ teste/data/external\n",
      "Successfully created the directory /home/walkira/workspace/machine-learning/organizar_projeto/ teste/data/interim\n",
      "Successfully created the directory /home/walkira/workspace/machine-learning/organizar_projeto/ teste/data/processed\n",
      "Successfully created the directory /home/walkira/workspace/machine-learning/organizar_projeto/ teste/data/raw\n",
      "Successfully created the directory /home/walkira/workspace/machine-learning/organizar_projeto/ teste/reports/figures\n",
      "Successfully created the directory /home/walkira/workspace/machine-learning/organizar_projeto/ teste/src/data\n",
      "Successfully created the directory /home/walkira/workspace/machine-learning/organizar_projeto/ teste/src/features\n",
      "Successfully created the directory /home/walkira/workspace/machine-learning/organizar_projeto/ teste/src/models\n",
      "Successfully created the directory /home/walkira/workspace/machine-learning/organizar_projeto/ teste/src/visualization\n"
     ]
    }
   ],
   "source": [
    "create_git_folders(project_name)"
   ]
  }
 ],
 "metadata": {
  "kernelspec": {
   "display_name": "Python 3",
   "language": "python",
   "name": "python3"
  },
  "language_info": {
   "codemirror_mode": {
    "name": "ipython",
    "version": 3
   },
   "file_extension": ".py",
   "mimetype": "text/x-python",
   "name": "python",
   "nbconvert_exporter": "python",
   "pygments_lexer": "ipython3",
   "version": "3.7.6"
  },
  "toc": {
   "base_numbering": 1,
   "nav_menu": {},
   "number_sections": true,
   "sideBar": true,
   "skip_h1_title": false,
   "title_cell": "Table of Contents",
   "title_sidebar": "Contents",
   "toc_cell": true,
   "toc_position": {},
   "toc_section_display": true,
   "toc_window_display": true
  }
 },
 "nbformat": 4,
 "nbformat_minor": 4
}
